{
 "cells": [
  {
   "cell_type": "markdown",
   "metadata": {
    "colab_type": "text",
    "id": "nF_5oOZ9OEaG"
   },
   "source": [
    "Welcome to the first handson!!!\n",
    "- In this handson you will be using the concept of GD with momentum, RMS prop and Adam prop to build optimized deep neural network\n",
    "- You will also be implementing minibatch gradient and L2 regularization to train you network\n",
    "- Follow the instruction provided for cell to write the code in each cell.\n",
    "- Run the below cell for to import necessary packages to read and visualize data\n",
    "- Before submit your notebook. Restart the kernel and run all the cell. Make sure that any cell shouldn't cause any error or problem.\n",
    "- Don't forget to run the last cell in the jupyter notebook, failing which your efforts will be invalid.\n",
    "- Don't delete any cell given in the notebook."
   ]
  },
  {
   "cell_type": "markdown",
   "metadata": {},
   "source": [
    "The data is provided as file named 'data.csv'.  \n",
    "Using pandas read the csv file and assign the resulting dataframe to variable 'data'   \n",
    "for example if file name is 'xyz.csv' read file as **pd.read_csv('xyz.csv')** "
   ]
  },
  {
   "cell_type": "code",
   "execution_count": 1,
   "metadata": {
    "colab": {
     "autoexec": {
      "startup": false,
      "wait_interval": 0
     }
    },
    "colab_type": "code",
    "id": "yaDtyHKHVAKL"
   },
   "outputs": [],
   "source": [
    "import pandas as pd\n",
    "import numpy as np\n",
    "from test_opthyptuning_optimization import optimization\n",
    "import matplotlib.pyplot as plt\n",
    "import matplotlib.colors"
   ]
  },
  {
   "cell_type": "markdown",
   "metadata": {
    "colab_type": "text",
    "id": "ivY_tF8yVKex"
   },
   "source": [
    "The data is provided as file named 'blobs.csv'.  \n",
    "Using pandas read the csv file and assign the resulting dataframe to variable 'data'   \n",
    "for example if file name is 'xyz.csv' read file as **pd.read_csv('xyz.csv')** "
   ]
  },
  {
   "cell_type": "code",
   "execution_count": 3,
   "metadata": {
    "colab": {
     "autoexec": {
      "startup": false,
      "wait_interval": 0
     }
    },
    "colab_type": "code",
    "id": "0BHA1dAKyzw8"
   },
   "outputs": [
    {
     "data": {
      "text/html": [
       "<div>\n",
       "<style scoped>\n",
       "    .dataframe tbody tr th:only-of-type {\n",
       "        vertical-align: middle;\n",
       "    }\n",
       "\n",
       "    .dataframe tbody tr th {\n",
       "        vertical-align: top;\n",
       "    }\n",
       "\n",
       "    .dataframe thead th {\n",
       "        text-align: right;\n",
       "    }\n",
       "</style>\n",
       "<table border=\"1\" class=\"dataframe\">\n",
       "  <thead>\n",
       "    <tr style=\"text-align: right;\">\n",
       "      <th></th>\n",
       "      <th>feature1</th>\n",
       "      <th>feature2</th>\n",
       "      <th>feature3</th>\n",
       "      <th>feature4</th>\n",
       "      <th>feature5</th>\n",
       "      <th>feature6</th>\n",
       "      <th>feature7</th>\n",
       "      <th>feature8</th>\n",
       "      <th>feature9</th>\n",
       "      <th>feature10</th>\n",
       "      <th>class</th>\n",
       "    </tr>\n",
       "  </thead>\n",
       "  <tbody>\n",
       "    <tr>\n",
       "      <th>0</th>\n",
       "      <td>-1.272708</td>\n",
       "      <td>0.343939</td>\n",
       "      <td>-1.987229</td>\n",
       "      <td>1.053235</td>\n",
       "      <td>-0.676002</td>\n",
       "      <td>-0.883291</td>\n",
       "      <td>-1.910100</td>\n",
       "      <td>-0.564239</td>\n",
       "      <td>-0.037298</td>\n",
       "      <td>-0.356574</td>\n",
       "      <td>0.0</td>\n",
       "    </tr>\n",
       "    <tr>\n",
       "      <th>1</th>\n",
       "      <td>-0.848200</td>\n",
       "      <td>0.218246</td>\n",
       "      <td>-0.573916</td>\n",
       "      <td>0.134973</td>\n",
       "      <td>-0.095297</td>\n",
       "      <td>0.161004</td>\n",
       "      <td>-0.526738</td>\n",
       "      <td>0.001871</td>\n",
       "      <td>0.205737</td>\n",
       "      <td>0.103360</td>\n",
       "      <td>0.0</td>\n",
       "    </tr>\n",
       "    <tr>\n",
       "      <th>2</th>\n",
       "      <td>2.345462</td>\n",
       "      <td>0.086694</td>\n",
       "      <td>-0.513989</td>\n",
       "      <td>0.275638</td>\n",
       "      <td>-0.176749</td>\n",
       "      <td>-0.236385</td>\n",
       "      <td>-0.494515</td>\n",
       "      <td>-0.149078</td>\n",
       "      <td>-0.013771</td>\n",
       "      <td>-0.096156</td>\n",
       "      <td>0.0</td>\n",
       "    </tr>\n",
       "    <tr>\n",
       "      <th>3</th>\n",
       "      <td>1.842869</td>\n",
       "      <td>-0.530773</td>\n",
       "      <td>1.146976</td>\n",
       "      <td>-0.135130</td>\n",
       "      <td>0.110948</td>\n",
       "      <td>-0.652808</td>\n",
       "      <td>1.032876</td>\n",
       "      <td>-0.134870</td>\n",
       "      <td>-0.583415</td>\n",
       "      <td>-0.370725</td>\n",
       "      <td>1.0</td>\n",
       "    </tr>\n",
       "    <tr>\n",
       "      <th>4</th>\n",
       "      <td>1.729844</td>\n",
       "      <td>-0.201752</td>\n",
       "      <td>1.913738</td>\n",
       "      <td>-1.198502</td>\n",
       "      <td>0.759804</td>\n",
       "      <td>1.303649</td>\n",
       "      <td>1.866575</td>\n",
       "      <td>0.722823</td>\n",
       "      <td>0.271639</td>\n",
       "      <td>0.568036</td>\n",
       "      <td>1.0</td>\n",
       "    </tr>\n",
       "  </tbody>\n",
       "</table>\n",
       "</div>"
      ],
      "text/plain": [
       "   feature1  feature2  feature3  feature4  feature5  feature6  feature7  \\\n",
       "0 -1.272708  0.343939 -1.987229  1.053235 -0.676002 -0.883291 -1.910100   \n",
       "1 -0.848200  0.218246 -0.573916  0.134973 -0.095297  0.161004 -0.526738   \n",
       "2  2.345462  0.086694 -0.513989  0.275638 -0.176749 -0.236385 -0.494515   \n",
       "3  1.842869 -0.530773  1.146976 -0.135130  0.110948 -0.652808  1.032876   \n",
       "4  1.729844 -0.201752  1.913738 -1.198502  0.759804  1.303649  1.866575   \n",
       "\n",
       "   feature8  feature9  feature10  class  \n",
       "0 -0.564239 -0.037298  -0.356574    0.0  \n",
       "1  0.001871  0.205737   0.103360    0.0  \n",
       "2 -0.149078 -0.013771  -0.096156    0.0  \n",
       "3 -0.134870 -0.583415  -0.370725    1.0  \n",
       "4  0.722823  0.271639   0.568036    1.0  "
      ]
     },
     "execution_count": 3,
     "metadata": {},
     "output_type": "execute_result"
    }
   ],
   "source": [
    "###Start code here\n",
    "data =pd.read_csv('data.csv')\n",
    "###End code here\n",
    "data.head()"
   ]
  },
  {
   "cell_type": "markdown",
   "metadata": {
    "colab": {
     "autoexec": {
      "startup": false,
      "wait_interval": 0
     }
    },
    "colab_type": "code",
    "id": "IaRJ8HLLXpuK"
   },
   "source": [
    " Extract all the feature values from dataframe 'data' and assign it to variable 'X'\n",
    "- Extract target variable 'class' and assign it to variable 'y'.  \n",
    "Hint:\n",
    " - Use .values to exract values from dataframe"
   ]
  },
  {
   "cell_type": "code",
   "execution_count": 14,
   "metadata": {},
   "outputs": [],
   "source": [
    "###Start code here\n",
    "X = data.iloc[:,:10].values\n",
    "Y = data['class'].values\n",
    "###End code\n",
    "\n",
    "assert X.shape == (10000, 10)\n",
    "assert Y.shape == (10000, )"
   ]
  },
  {
   "cell_type": "markdown",
   "metadata": {},
   "source": [
    "- Run the below cell to visualize the data in x-y plane. (visualization code has been written for you)\n",
    "- The green spots corresponds to target value 0 and green spots corresponds to target value 1\n",
    "- Though the data is more than 2 dimension only first two features are considered for visualization"
   ]
  },
  {
   "cell_type": "code",
   "execution_count": 15,
   "metadata": {
    "colab": {
     "autoexec": {
      "startup": false,
      "wait_interval": 0
     }
    },
    "colab_type": "code",
    "id": "OLSGMjm0VGkJ"
   },
   "outputs": [
    {
     "data": {
      "image/png": "[encoded data removed]",
      "text/plain": [
       "<Figure size 432x288 with 1 Axes>"
      ]
     },
     "metadata": {
      "needs_background": "light"
     },
     "output_type": "display_data"
    }
   ],
   "source": [
    "colors=['green','blue']\n",
    "cmap = matplotlib.colors.ListedColormap(colors)\n",
    "#Plot the figure\n",
    "plt.figure()\n",
    "plt.title('Non-linearly separable classes')\n",
    "plt.scatter(X[:,0], X[:,1], c=y,\n",
    "           marker= 'o', s=50,cmap=cmap,alpha = 0.5 )\n",
    "plt.show()"
   ]
  },
  {
   "cell_type": "markdown",
   "metadata": {},
   "source": [
    "- In order to feed the network the input has to be of **shape (number of features, number of samples)** and target should be of shape **(1, number of samples)**\n",
    "- Transpose X and assign it to variable 'X_data'\n",
    "- reshape y to have shape (1, number of samples) and assign to variable 'y_data'"
   ]
  },
  {
   "cell_type": "code",
   "execution_count": 16,
   "metadata": {
    "colab": {
     "autoexec": {
      "startup": false,
      "wait_interval": 0
     }
    },
    "colab_type": "code",
    "id": "XchlAZPwHpMk"
   },
   "outputs": [],
   "source": [
    "X_data = X.T\n",
    "y_data = y.reshape(1,len(y))\n",
    "\n",
    "assert X_data.shape == (10, 10000)\n",
    "assert y_data.shape == (1, 10000)"
   ]
  },
  {
   "cell_type": "markdown",
   "metadata": {},
   "source": [
    "Define the network dimension to have **10** input features, **two** **hidden layers** with **9** nodes each, one output node at final layer. "
   ]
  },
  {
   "cell_type": "code",
   "execution_count": 17,
   "metadata": {
    "colab": {
     "autoexec": {
      "startup": false,
      "wait_interval": 0
     }
    },
    "colab_type": "code",
    "id": "t_dEEaJykLSa"
   },
   "outputs": [],
   "source": [
    "layer_dims = [10,9,9,1]"
   ]
  },
  {
   "cell_type": "markdown",
   "metadata": {},
   "source": [
    "import tensorflow as tf"
   ]
  },
  {
   "cell_type": "code",
   "execution_count": 18,
   "metadata": {},
   "outputs": [],
   "source": [
    "   import tensorflow as tf         #import tensorflow"
   ]
  },
  {
   "cell_type": "markdown",
   "metadata": {},
   "source": [
    "Define a function named placeholders to return two placeholders one for input data as A_0 and one for output data as Y.\n",
    "- Set the datatype of placeholders as **float64**\n",
    "- parameters - num_features\n",
    "- Returns - A_0 with shape (num_feature, None) and Y with shape(1,None)"
   ]
  },
  {
   "cell_type": "code",
   "execution_count": 19,
   "metadata": {
    "colab": {
     "autoexec": {
      "startup": false,
      "wait_interval": 0
     }
    },
    "colab_type": "code",
    "id": "4kp4_9kS58CT"
   },
   "outputs": [],
   "source": [
    "def placeholders(num_features):\n",
    "    A_0 = tf.placeholder(dtype = tf.float64, shape = ([num_features,None]))\n",
    "    Y = tf.placeholder(dtype = tf.float64, shape = ([1,None]))\n",
    "    return A_0,Y"
   ]
  },
  {
   "cell_type": "markdown",
   "metadata": {},
   "source": [
    "define function named initialize_parameters_deep() to initialize weights and bias for each layer\n",
    "- Use tf.random_normal_initializer() to initialise weights and tf.zeros() to initialise bias. Set datatype as **float64**\n",
    "- Parameters - layer_dims\n",
    "- Returns - dictionary of weights and bias"
   ]
  },
  {
   "cell_type": "code",
   "execution_count": 20,
   "metadata": {
    "colab": {
     "autoexec": {
      "startup": false,
      "wait_interval": 0
     }
    },
    "colab_type": "code",
    "id": "W3l_vyXVkrlw"
   },
   "outputs": [],
   "source": [
    "def initialize_parameters_deep(layer_dims):\n",
    "    tf.set_random_seed(1)\n",
    "    L = len(layer_dims)\n",
    "    parameters = {}\n",
    "    for l in range(1,L):\n",
    "        ###Start code here\n",
    "        parameters['W' + str(l)] =   tf.get_variable(\"W\" + str(l), shape=[layer_dims[l], layer_dims[l-1]], dtype = tf.float64,initializer=tf.random_normal_initializer())\n",
    "        parameters['b' + str(l)] = tf.get_variable(\"b\"+ str(l), shape = [layer_dims[l], 1], dtype= tf.float64, initializer= tf.zeros_initializer())\n",
    "        #End code\n",
    "    return parameters "
   ]
  },
  {
   "cell_type": "markdown",
   "metadata": {},
   "source": [
    "Define functon named linear_forward_prop() to define forward propagation for a given layer.\n",
    "- parameters: A_prev(output from previous layer), W(weigth matrix of current layer), b(bias vector for current layer),activation(type of activation to be used for out of current layer)  \n",
    "- returns: A(output from the current layer)\n",
    "- Use relu activation for hidden layers and for final output layer return the output unactivated i.e if activation is sigmoid"
   ]
  },
  {
   "cell_type": "code",
   "execution_count": 21,
   "metadata": {
    "colab": {
     "autoexec": {
      "startup": false,
      "wait_interval": 0
     }
    },
    "colab_type": "code",
    "id": "SKbSUt5g4toV"
   },
   "outputs": [],
   "source": [
    "def linear_forward_prop(A_prev,W,b, activation):\n",
    "    Z = tf.add(tf.matmul(W, A_prev), b)\n",
    "    if activation == \"sigmoid\":\n",
    "        A = Z\n",
    "    elif activation == \"relu\":\n",
    "        A = tf.nn.relu(Z)\n",
    "    return A"
   ]
  },
  {
   "cell_type": "markdown",
   "metadata": {},
   "source": [
    "Define forward propagation for entire network as l_layer_forward()\n",
    "- Parameters: A_0(input data), parameters(dictionary of weights and bias)\n",
    "- returns: A(output from final layer)  "
   ]
  },
  {
   "cell_type": "code",
   "execution_count": 22,
   "metadata": {
    "colab": {
     "autoexec": {
      "startup": false,
      "wait_interval": 0
     }
    },
    "colab_type": "code",
    "id": "Cdks1w__k-Ei"
   },
   "outputs": [],
   "source": [
    "def l_layer_forwardProp(A_0, parameters):\n",
    "    A = A_0\n",
    "    L = len(parameters)//2\n",
    "    for l in range(1,L):\n",
    "        A_prev = A\n",
    "    ###Start code\n",
    "        A =   linear_forward_prop(A_prev,parameters['W' + str(l)],parameters['b' + str(l)], \"relu\")                 #call linear forward prop with relu activation\n",
    "    A =  linear_forward_prop(A, parameters['W' + str(L)], parameters['b' + str(L)], \"sigmoid\" )                                                #call linear forward prop with sigmoid activation\n",
    "    ###End code\n",
    "    return A"
   ]
  },
  {
   "cell_type": "markdown",
   "metadata": {},
   "source": [
    "- Define the cost function\n",
    "- parameters:\n",
    "  - Z_final: output fro final layer\n",
    "  - Y: actual output\n",
    "  - parameters: dictionary of weigths and bias\n",
    "  - regularization : boolean\n",
    "  - lambd: regularization parameter\n",
    "- First define the original cost using tensoflow's sigmoid_cross_entropy function\n",
    "- If **regularization == True** add regularization term to original cost function"
   ]
  },
  {
   "cell_type": "code",
   "execution_count": 23,
   "metadata": {},
   "outputs": [],
   "source": [
    "def final_cost(Z_final, Y , parameters, regularization = False, lambd = 0):\n",
    "    cost = tf.nn.sigmoid_cross_entropy_with_logits(logits=Z_final,labels=Y)\n",
    "    if regularization:\n",
    "        reg_term = 0\n",
    "        L = len(parameters)//2\n",
    "        for l in range(1,L+1):\n",
    "            ###Start code\n",
    "            reg_term +=    tf.nn.l2_loss(parameters['W'+str(l)])  \n",
    "#             0.5 * (parameters ** 2).sum()          #add L2 loss term\n",
    "            ###End code\n",
    "        cost = cost + (lambd/2) * reg_term\n",
    "    return tf.reduce_mean(cost)"
   ]
  },
  {
   "cell_type": "markdown",
   "metadata": {},
   "source": [
    "Define the function to generate mini-batches. **Important: Use np.random.permutation for generate random indicies**"
   ]
  },
  {
   "cell_type": "code",
   "execution_count": null,
   "metadata": {},
   "outputs": [],
   "source": [
    "import numpy as np\n",
    "def random_samples_minibatch(X, Y, batch_size, seed = 1):\n",
    "    np.random.seed(seed)\n",
    "    ###Start code\n",
    "    m =     X.shape[1]                                       #number of samples\n",
    "    num_batches =   int(m / batch_size )                                   #number of batches derived from batch_size\n",
    "    ###End code\n",
    "    indices =                                   # generate ramdom indicies\n",
    "    shuffle_X = X[:,indices]\n",
    "    shuffle_Y = Y[:,indices]\n",
    "    mini_batches = []\n",
    "    \n",
    "    #generate minibatch\n",
    "    for i in range(num_batches):\n",
    "        X_batch = shuffle_X[:,i * batch_size:(i+1) * batch_size]\n",
    "        Y_batch = shuffle_Y[:,i * batch_size:(i+1) * batch_size]\n",
    "        \n",
    "        assert X_batch.shape == (X.shape[0], batch_size)\n",
    "        assert Y_batch.shape == (Y.shape[0], batch_size)\n",
    "        \n",
    "        mini_batches.append((X_batch, Y_batch))\n",
    "    \n",
    "    #generate batch with remaining number of samples\n",
    "    if m % batch_size != 0:\n",
    "        X_batch =  shuffle_X[:, (num_batches * batch_size):]\n",
    "        Y_batch = shuffle_Y[:, (num_batches * batch_size):]\n",
    "        mini_batches.append((X_batch, Y_batch))\n",
    "    return mini_batches"
   ]
  },
  {
   "cell_type": "markdown",
   "metadata": {},
   "source": [
    "Define the model to train the network using minibatch\n",
    "- parameters:\n",
    "  - X_train, Y_train: input and target data\n",
    "  - layer_dims: network configuration\n",
    "  - learning_rate\n",
    "  - optimizer\n",
    "  - num_iter: number of epoches\n",
    "  - mini_batch_size: number of samples to be considered in each minibatch\n",
    "- return: dictionary of trained parameters"
   ]
  },
  {
   "cell_type": "code",
   "execution_count": null,
   "metadata": {
    "colab": {
     "autoexec": {
      "startup": false,
      "wait_interval": 0
     }
    },
    "colab_type": "code",
    "id": "_aBIc5RIRz-q"
   },
   "outputs": [],
   "source": [
    "def model(X_train,Y_train, layer_dims, learning_rate, optimizer ,num_iter, mini_batch_size):\n",
    "    tf.reset_default_graph()\n",
    "    num_features, num_samples = X_train.shape\n",
    "    ###Start code\n",
    "    A_0, Y =        placeholders(num_features)                 #call placeholder function to initialize placeholders A_0 and Y\n",
    "    parameters =   initialize_parameters_deep(layer_dims)                     #Initialse Weights and bias using initialize_parameters\n",
    "    Z_final =   l_layer_forwardProp(A_0, parameters)                       #call the function l_layer_forwardProp() to define the final output\n",
    "    \n",
    "    cost =          final_cost(Z_final, Y , parameters, regularization = True)                 #call the final_cost function with regularization set TRUE\n",
    "    ###End code\n",
    "    \n",
    "    ###Start code\n",
    "    if optimizer == \"momentum\":\n",
    "        train_net =    tf.train.MomentumOptimizer(learning_rate, momentum=0.9).minimize(cost)                #call tensorflow's momentum optimizer with momentum = 0.9\n",
    "    elif optimizer == \"rmsProp\":\n",
    "        train_net =     tf.train.RMSPropOptimizer(learning_rate, decay=0.999).minimize(cost)               #call tensorflow's RMS optimiser with decay = 0.999\n",
    "    elif optimizer == \"adam\":\n",
    "        train_net = tf.train.AdamOptimizer(learning_rate, beta1=0.9, beta2=0.999).minimize(cost)                 ##call tensorflow's adam optimizer with beta1 = 0.9, beta2 = 0.999\n",
    "    ###End code\n",
    "    seed = 1\n",
    "    num_minibatches = int(num_samples / mini_batch_size)\n",
    "    init = tf.global_variables_initializer()\n",
    "    costs = []\n",
    "    with tf.Session() as sess:\n",
    "        sess.run(init)\n",
    "        for epoch in range(num_iter):\n",
    "            epoch_cost = 0\n",
    "            ###Start code\n",
    "            mini_batches =     random_samples_minibatch(X_train, Y_train, mini_batch_size, seed)           #call random_sample_minibatch to return minibatches\n",
    "            ###End code\n",
    "            seed = seed + 1\n",
    "            \n",
    "            #perform gradient descent for each mini-batch\n",
    "            for mini_batch in mini_batches:\n",
    "                ###Start code\n",
    "                X_batch, Y_batch =   mini_batch            #assign minibatch\n",
    "                ###End code\n",
    "                _,mini_batch_cost = sess.run([train_net, cost], feed_dict={A_0: X_batch, Y: Y_batch})\n",
    "                epoch_cost += mini_batch_cost/num_minibatches\n",
    "            \n",
    "            if epoch % 2 == 0:\n",
    "                costs.append(epoch_cost)\n",
    "            if epoch % 10 == 0:\n",
    "                print(epoch_cost)\n",
    "        optimization.save_ans7(epoch_cost, optimizer)\n",
    "        plt.ylim(0 ,2, 0.0001)\n",
    "        plt.xlabel(\"epoches per 2\")\n",
    "        plt.ylabel(\"cost\")\n",
    "        plt.plot(costs)\n",
    "        plt.show()\n",
    "        params = sess.run(parameters)\n",
    "    return params"
   ]
  },
  {
   "cell_type": "markdown",
   "metadata": {},
   "source": [
    "Call the method model() with learning rate 0.001, **optimizer = momentum** num_iter = 100 and minibatch 256"
   ]
  },
  {
   "cell_type": "code",
   "execution_count": null,
   "metadata": {},
   "outputs": [],
   "source": [
    "params_momentum = model(X_data,y_data, layer_dims, learning_rate=0.001, optimizer='momentum' ,num_iter=100, mini_batch_size=256)"
   ]
  },
  {
   "cell_type": "markdown",
   "metadata": {},
   "source": [
    "Call the method model() with learning rate 0.001, **optimizer = rmsProp** num_iter = 100 and minibatch 256"
   ]
  },
  {
   "cell_type": "code",
   "execution_count": null,
   "metadata": {},
   "outputs": [],
   "source": [
    "params_rms = model(X_data,y_data, layer_dims, learning_rate=0.001, optimizer='rmsProp' ,num_iter=100, mini_batch_size=256)"
   ]
  },
  {
   "cell_type": "markdown",
   "metadata": {},
   "source": [
    "Call the method model() with learning rate 0.001, **optimizer = adam** num_iter = 100 and minibatch 256"
   ]
  },
  {
   "cell_type": "code",
   "execution_count": null,
   "metadata": {},
   "outputs": [],
   "source": [
    "params_adam = model(X_data,y_data, layer_dims, learning_rate=0.001, optimizer='adam' ,num_iter=100, mini_batch_size=256)"
   ]
  },
  {
   "cell_type": "markdown",
   "metadata": {},
   "source": [
    "### Run the below cells to save your answers"
   ]
  },
  {
   "cell_type": "code",
   "execution_count": null,
   "metadata": {},
   "outputs": [],
   "source": [
    "optimization.save_func1(placeholders)\n",
    "optimization.save_func2(initialize_parameters_deep)\n",
    "optimization.save_func3(linear_forward_prop)\n",
    "optimization.save_func4(l_layer_forwardProp)\n",
    "optimization.save_func5(final_cost)\n",
    "optimization.save_func6(random_samples_minibatch)"
   ]
  }
 ],
 "metadata": {
  "colab": {
   "collapsed_sections": [],
   "default_view": {},
   "name": "DNN_hands_on_solution.ipynb",
   "provenance": [
    {
     "file_id": "1i6MJxD7kd04W6ojetXVPsNUeA4qGg6Zq",
     "timestamp": 1525158878710
    }
   ],
   "version": "0.3.2",
   "views": {}
  },
  "kernelspec": {
   "display_name": "Python 3",
   "language": "python",
   "name": "python3"
  },
  "language_info": {
   "codemirror_mode": {
    "name": "ipython",
    "version": 3
   },
   "file_extension": ".py",
   "mimetype": "text/x-python",
   "name": "python",
   "nbconvert_exporter": "python",
   "pygments_lexer": "ipython3",
   "version": "3.5.2"
  }
 },
 "nbformat": 4,
 "nbformat_minor": 1
}
