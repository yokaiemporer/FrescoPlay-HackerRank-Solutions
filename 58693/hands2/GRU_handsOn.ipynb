{
 "cells": [
  {
   "cell_type": "markdown",
   "metadata": {},
   "source": [
    "### In this hands on you will be using Gated Recurrent Units to predict the airline passenger count in a given month based on the information from previous months.\n",
    "\n",
    "- Follow the instructions provided for each cell and and code accordingly. \n",
    "- In order to run the cell press shift+enter.\n",
    "- make sure you have run all the cells before submitting the hands on"
   ]
  },
  {
   "cell_type": "markdown",
   "metadata": {},
   "source": [
    "### Run the below cell to import necessary packages"
   ]
  },
  {
   "cell_type": "code",
   "execution_count": 1,
   "metadata": {},
   "outputs": [
    {
     "name": "stderr",
     "output_type": "stream",
     "text": [
      "Using TensorFlow backend.\n"
     ]
    }
   ],
   "source": [
    "import numpy\n",
    "import matplotlib.pyplot as plt\n",
    "import pandas\n",
    "import math\n",
    "from keras.models import Sequential\n",
    "from keras.layers import Dense\n",
    "from keras.layers import LSTM, GRU\n",
    "from sklearn.preprocessing import MinMaxScaler\n",
    "from sklearn.metrics import mean_squared_error"
   ]
  },
  {
   "cell_type": "markdown",
   "metadata": {},
   "source": [
    "- Read data from air_line.csv file using pandas and assign the values of \"passenger_count\" column to variable **dataset**, \n",
    "- typecast passenger count values values to float32\n",
    "### Expected output\n",
    "[[112.]\n",
    " [118.]\n",
    " [132.]\n",
    " [129.]\n",
    " [121.]\n",
    " [135.]\n",
    " [148.]\n",
    " [148.]\n",
    " [136.]\n",
    " [119.]]"
   ]
  },
  {
   "cell_type": "code",
   "execution_count": 36,
   "metadata": {},
   "outputs": [
    {
     "name": "stdout",
     "output_type": "stream",
     "text": [
      "0    112\n",
      "1    118\n",
      "2    132\n",
      "3    129\n",
      "4    121\n",
      "5    135\n",
      "6    148\n",
      "7    148\n",
      "8    136\n",
      "9    119\n",
      "Name: passenger_count, dtype: int64\n"
     ]
    }
   ],
   "source": [
    "###Start code here\n",
    "dataset = pandas.read_csv(\"air_line.csv\")\n",
    "dataset=dataset[\"passenger_count\"]\n",
    "###End code\n",
    "#dataset = dataset.astype('float32')\n",
    "print(dataset[:10])"
   ]
  },
  {
   "cell_type": "markdown",
   "metadata": {},
   "source": [
    "Use MinMaxScaler to normalize the values of **dataset** between the range 0 to 1  \n",
    "### Expected output\n",
    "[[0.01544401]\n",
    " [0.02702703]\n",
    " [0.05405405]\n",
    " [0.04826255]\n",
    " [0.03281853]\n",
    " [0.05984557]\n",
    " [0.08494207]\n",
    " [0.08494207]\n",
    " [0.06177607]\n",
    " [0.02895753]]"
   ]
  },
  {
   "cell_type": "code",
   "execution_count": 38,
   "metadata": {},
   "outputs": [
    {
     "name": "stdout",
     "output_type": "stream",
     "text": [
      "[[0.01544402]\n",
      " [0.02702703]\n",
      " [0.05405405]\n",
      " [0.04826255]\n",
      " [0.03281853]\n",
      " [0.05984556]\n",
      " [0.08494208]\n",
      " [0.08494208]\n",
      " [0.06177606]\n",
      " [0.02895753]]\n"
     ]
    }
   ],
   "source": [
    "###Start code here\n",
    "scaler=MinMaxScaler()\n",
    "# dataset=[dataset]\n",
    "\n",
    "dataset_temp=numpy.array(dataset).reshape((len(dataset), 1))\n",
    "dataset = scaler.fit_transform(dataset_temp)\n",
    "###End code\n",
    "print(dataset[:10])"
   ]
  },
  {
   "cell_type": "markdown",
   "metadata": {},
   "source": [
    "### Train test split the dataset  \n",
    "- Assign to first 100 values of dataset to variable **train** and remaining values to variable **test**\n",
    "### Expected output:\n",
    "100 44"
   ]
  },
  {
   "cell_type": "code",
   "execution_count": 39,
   "metadata": {},
   "outputs": [
    {
     "name": "stdout",
     "output_type": "stream",
     "text": [
      "100 44\n"
     ]
    }
   ],
   "source": [
    "###Start code here\n",
    "\n",
    "train, test = dataset[:100],dataset[100:]\n",
    "###End code\n",
    "print(len(train), len(test))"
   ]
  },
  {
   "cell_type": "markdown",
   "metadata": {},
   "source": [
    "### write a function to generate training dataset \n",
    "    - parameters: dataset: orginal dataset\n",
    "                  look_back: the window size that tells the number of previous values in the series to look for to                   predict the next one.\n",
    "    - returns: feature and target arrays\n",
    "\n",
    "example: \n",
    "         for window size 1:\n",
    "         dataset = [1,2,3,4]  \n",
    "         feature = [[1],[2],[3]]    \n",
    "         target = [2,3,4]  \n",
    "         \n",
    "         for window size 2:\n",
    "         feature = [[1,2],[2,3]]  \n",
    "         target = [3,4]  "
   ]
  },
  {
   "cell_type": "code",
   "execution_count": 44,
   "metadata": {},
   "outputs": [],
   "source": [
    "###Start code\n",
    "def generate_dataset(dataset, look_back=1):\n",
    "    dataX, dataY = [], []\n",
    "    for i in range(len(dataset)-look_back-1):\n",
    "        x=i+look_back\n",
    "#         print(x)\n",
    "        a = dataset[i:x]\n",
    "        \n",
    "        dataX.append(a)\n",
    "        dataY.append(dataset[x])\n",
    "    return numpy.array(dataX), numpy.array(dataY)\n",
    "    \n",
    "    \n",
    "    \n",
    "###End code"
   ]
  },
  {
   "cell_type": "markdown",
   "metadata": {},
   "source": [
    "### the below cell uses the method you defined above to generate feature and target datasets on train and teat data\n",
    "### Expected output:\n",
    "(98, 1)  \n",
    "(98,)  \n",
    "(42, 1)  \n",
    "(42,)  \n",
    "[[0.01544401]  \n",
    " [0.02702703]]  \n",
    "[0.02702703 0.05405405]  "
   ]
  },
  {
   "cell_type": "code",
   "execution_count": 56,
   "metadata": {},
   "outputs": [
    {
     "name": "stdout",
     "output_type": "stream",
     "text": [
      "(98, 1, 1)\n",
      "(98, 1)\n",
      "(42, 1, 1)\n",
      "(42, 1)\n",
      "[[[0.01544402]]\n",
      "\n",
      " [[0.02702703]]]\n",
      "[[0.02702703]\n",
      " [0.05405405]]\n"
     ]
    }
   ],
   "source": [
    "look_back = 1\n",
    "trainX, trainY = generate_dataset(train, look_back)\n",
    "testX, testY = generate_dataset(test, look_back)\n",
    "print(trainX.shape)\n",
    "print(trainY.shape)\n",
    "print(testX.shape)\n",
    "print(testY.shape)\n",
    "print(trainX[:2])\n",
    "print(trainY[:2])"
   ]
  },
  {
   "cell_type": "markdown",
   "metadata": {},
   "source": [
    "### Reshape the trainX and testX dataset to (number of samples, 1, look_back)\n",
    "\n",
    "### Expected output:\n",
    "(98, 1, 1)  \n",
    "(98,)  \n",
    "(42, 1, 1)  \n",
    "(42,)  "
   ]
  },
  {
   "cell_type": "code",
   "execution_count": 57,
   "metadata": {
    "scrolled": true
   },
   "outputs": [
    {
     "name": "stdout",
     "output_type": "stream",
     "text": [
      "(98, 1, 1)\n",
      "(98,)\n",
      "(42, 1, 1)\n",
      "(42,)\n"
     ]
    }
   ],
   "source": [
    "###Start code here\n",
    "trainY = trainY.reshape(trainY.shape[0],)\n",
    "testY = testY.reshape(testY.shape[0],)\n",
    "###End code\n",
    "print(trainX.shape)\n",
    "print(trainY.shape)\n",
    "print(testX.shape)\n",
    "print(testY.shape)"
   ]
  },
  {
   "cell_type": "markdown",
   "metadata": {},
   "source": [
    "#### Using keras Sequential() class create a model having one GRU block and one dense layer\n",
    "### compile the model with mean_squared_error loss adam optimizer\n",
    "\n",
    "### Expected output\n",
    "<img src = summary.png/>"
   ]
  },
  {
   "cell_type": "code",
   "execution_count": 61,
   "metadata": {},
   "outputs": [
    {
     "name": "stdout",
     "output_type": "stream",
     "text": [
      "_________________________________________________________________\n",
      "Layer (type)                 Output Shape              Param #   \n",
      "=================================================================\n",
      "gru_2 (GRU)                  (None, 1)                 9         \n",
      "_________________________________________________________________\n",
      "dense_2 (Dense)              (None, 1)                 2         \n",
      "=================================================================\n",
      "Total params: 11\n",
      "Trainable params: 11\n",
      "Non-trainable params: 0\n",
      "_________________________________________________________________\n"
     ]
    }
   ],
   "source": [
    "numpy.random.seed(51)\n",
    "###Start code here\n",
    "model = Sequential()\n",
    "model.add(GRU(1, input_shape=(trainX.shape[1], trainX.shape[2])))\n",
    "model.add(Dense(1, activation='softmax'))\n",
    "\n",
    "model.compile(loss='mse', optimizer='adam')\n",
    "###End code\n",
    "model.summary()"
   ]
  },
  {
   "cell_type": "markdown",
   "metadata": {},
   "source": [
    "### Run model.fit() on train data for 30 epoches and batch_size = 1"
   ]
  },
  {
   "cell_type": "code",
   "execution_count": 62,
   "metadata": {},
   "outputs": [
    {
     "name": "stdout",
     "output_type": "stream",
     "text": [
      "Epoch 1/30\n",
      "98/98 [==============================] - 1s 7ms/step - loss: 0.6276\n",
      "Epoch 2/30\n",
      "98/98 [==============================] - 0s 3ms/step - loss: 0.6276\n",
      "Epoch 3/30\n",
      "98/98 [==============================] - 0s 2ms/step - loss: 0.6276\n",
      "Epoch 4/30\n",
      "98/98 [==============================] - 0s 2ms/step - loss: 0.6276\n",
      "Epoch 5/30\n",
      "98/98 [==============================] - 0s 2ms/step - loss: 0.6276\n",
      "Epoch 6/30\n",
      "98/98 [==============================] - 0s 2ms/step - loss: 0.6276\n",
      "Epoch 7/30\n",
      "98/98 [==============================] - 0s 2ms/step - loss: 0.6276\n",
      "Epoch 8/30\n",
      "98/98 [==============================] - 0s 2ms/step - loss: 0.6276\n",
      "Epoch 9/30\n",
      "98/98 [==============================] - 0s 2ms/step - loss: 0.6276\n",
      "Epoch 10/30\n",
      "98/98 [==============================] - 0s 2ms/step - loss: 0.6276\n",
      "Epoch 11/30\n",
      "98/98 [==============================] - 0s 2ms/step - loss: 0.6276\n",
      "Epoch 12/30\n",
      "98/98 [==============================] - 0s 2ms/step - loss: 0.6276\n",
      "Epoch 13/30\n",
      "98/98 [==============================] - 0s 2ms/step - loss: 0.6276\n",
      "Epoch 14/30\n",
      "98/98 [==============================] - 0s 2ms/step - loss: 0.6276\n",
      "Epoch 15/30\n",
      "98/98 [==============================] - 0s 2ms/step - loss: 0.6276\n",
      "Epoch 16/30\n",
      "98/98 [==============================] - 0s 2ms/step - loss: 0.6276\n",
      "Epoch 17/30\n",
      "98/98 [==============================] - 0s 2ms/step - loss: 0.6276\n",
      "Epoch 18/30\n",
      "98/98 [==============================] - 0s 2ms/step - loss: 0.6276\n",
      "Epoch 19/30\n",
      "98/98 [==============================] - 0s 2ms/step - loss: 0.6276\n",
      "Epoch 20/30\n",
      "98/98 [==============================] - 0s 2ms/step - loss: 0.6276\n",
      "Epoch 21/30\n",
      "98/98 [==============================] - 0s 2ms/step - loss: 0.6276\n",
      "Epoch 22/30\n",
      "98/98 [==============================] - 0s 2ms/step - loss: 0.6276\n",
      "Epoch 23/30\n",
      "98/98 [==============================] - 0s 2ms/step - loss: 0.6276\n",
      "Epoch 24/30\n",
      "98/98 [==============================] - 0s 2ms/step - loss: 0.6276\n",
      "Epoch 25/30\n",
      "98/98 [==============================] - 0s 2ms/step - loss: 0.6276\n",
      "Epoch 26/30\n",
      "98/98 [==============================] - 0s 2ms/step - loss: 0.6276\n",
      "Epoch 27/30\n",
      "98/98 [==============================] - 0s 2ms/step - loss: 0.6276\n",
      "Epoch 28/30\n",
      "98/98 [==============================] - 0s 2ms/step - loss: 0.6276\n",
      "Epoch 29/30\n",
      "98/98 [==============================] - 0s 2ms/step - loss: 0.6276\n",
      "Epoch 30/30\n",
      "98/98 [==============================] - 0s 2ms/step - loss: 0.6276\n"
     ]
    },
    {
     "data": {
      "text/plain": [
       "<keras.callbacks.History at 0x7ff3c4617e80>"
      ]
     },
     "execution_count": 62,
     "metadata": {},
     "output_type": "execute_result"
    }
   ],
   "source": [
    "###Start code\n",
    "model.fit(trainX, trainY, batch_size=1, epochs=30)\n",
    "\n",
    "###End code"
   ]
  },
  {
   "cell_type": "markdown",
   "metadata": {},
   "source": [
    "#### using model.predict assign the predicted output on trainX and test X to trainPredicy and testPredict variables respectively\n",
    "#### since the data was normalized previously invert the values to their original form (hint: use .invert_transform())"
   ]
  },
  {
   "cell_type": "code",
   "execution_count": 85,
   "metadata": {},
   "outputs": [
    {
     "name": "stdout",
     "output_type": "stream",
     "text": [
      "Train Score: 0.79 RMSE\n",
      "Test Score: 0.41 RMSE\n"
     ]
    }
   ],
   "source": [
    "###Start code here\n",
    "trainPredict = model.predict(trainX)\n",
    "\n",
    "testPredict = model.predict(testX)\n",
    "\n",
    "# trainPredict = \n",
    "# trainY = \n",
    "# testPredict = \n",
    "# testY = \n",
    "###End code\n",
    "# calculate root mean squared error\n",
    "# print(trainPredict)\n",
    "# scaler.invert_transform()\n",
    "# trainPredict\n",
    "# print(testPredict)\n",
    "trainScore = math.sqrt(mean_squared_error(trainY, trainPredict))\n",
    "print('Train Score: %.2f RMSE' % (trainScore))\n",
    "testScore = math.sqrt(mean_squared_error(testY, testPredict))\n",
    "print('Test Score: %.2f RMSE' % (testScore))\n",
    "\n",
    "with open(\"output.txt\", \"w+\") as file:\n",
    "    file.write(\"train score {0:.2f}\\n\".format(trainScore))\n",
    "    file.write(\"test score {0:.2f}\".format(testScore))"
   ]
  },
  {
   "cell_type": "markdown",
   "metadata": {},
   "source": [
    "### Run the below cell to plot the train as well as predicted passenger counts.\n",
    "### you can observe that the predicted results follow the same trend as of train data."
   ]
  },
  {
   "cell_type": "code",
   "execution_count": 86,
   "metadata": {},
   "outputs": [
    {
     "data": {
      "image/png": "[encoded data removed]",
      "text/plain": [
       "<Figure size 432x288 with 1 Axes>"
      ]
     },
     "metadata": {
      "needs_background": "light"
     },
     "output_type": "display_data"
    }
   ],
   "source": [
    "trainPredictPlot = numpy.empty_like(dataset)\n",
    "trainPredictPlot[:, :] = numpy.nan\n",
    "trainPredictPlot[look_back:len(trainPredict)+look_back, :] = trainPredict\n",
    "# shift test predictions for plotting\n",
    "testPredictPlot = numpy.empty_like(dataset)\n",
    "testPredictPlot[:, :] = numpy.nan\n",
    "testPredictPlot[len(trainPredict)+(look_back*2)+1:len(dataset)-1, :] = testPredict\n",
    "# plot baseline and predictions\n",
    "plt.plot(scaler.inverse_transform(dataset))\n",
    "plt.plot(trainPredictPlot)\n",
    "plt.plot(testPredictPlot)\n",
    "plt.show()"
   ]
  },
  {
   "cell_type": "code",
   "execution_count": null,
   "metadata": {},
   "outputs": [],
   "source": []
  }
 ],
 "metadata": {
  "kernelspec": {
   "display_name": "Python 3",
   "language": "python",
   "name": "python3"
  },
  "language_info": {
   "codemirror_mode": {
    "name": "ipython",
    "version": 3
   },
   "file_extension": ".py",
   "mimetype": "text/x-python",
   "name": "python",
   "nbconvert_exporter": "python",
   "pygments_lexer": "ipython3",
   "version": "3.5.2"
  }
 },
 "nbformat": 4,
 "nbformat_minor": 2
}
