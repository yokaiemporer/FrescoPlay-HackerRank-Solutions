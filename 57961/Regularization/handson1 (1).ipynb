{
 "cells": [
  {
   "cell_type": "markdown",
   "metadata": {
    "id": "nF_5oOZ9OEaG"
   },
   "source": [
    "Welcome to the first handson!!!\n",
    "- In this handson you will be building an optimized network for binary classification.\n",
    "- You will learn how to incorporate regularization and dropout techniques in order to generalize the model's prediction.\n",
    "- Follow the instruction provided for cell to write the code in each cell."
   ]
  },
  {
   "cell_type": "markdown",
   "metadata": {
    "id": "ivY_tF8yVKex"
   },
   "source": [
    "- The data is provided as file named 'blobs.csv' in data folder\n",
    "- The data has two features feature1 and feature2 and one targer variable which is a binary value\n",
    "- Using pandas read the csv file and assign the resulting dataframe to variable 'df'   \n",
    "- for example if file name is 'xyz.csv' read file as **pd.read_csv('xyz.csv')**\n",
    "- Packages to import: **pandas** (to read csv file)"
   ]
  },
  {
   "cell_type": "code",
   "execution_count": 1,
   "metadata": {
    "id": "zpehB9zuPbJ3"
   },
   "outputs": [],
   "source": [
    "#Run this cell without modifying\n",
    "import hashlib\n",
    "import pickle\n",
    "import pandas as pd\n",
    "def gethex(ovalue):\n",
    "  hexresult=hashlib.md5(str(ovalue).encode())\n",
    "  return hexresult.hexdigest()\n"
   ]
  },
  {
   "cell_type": "code",
   "execution_count": 2,
   "metadata": {
    "id": "0BHA1dAKyzw8"
   },
   "outputs": [
    {
     "name": "stdout",
     "output_type": "stream",
     "text": [
      "   feature1  feature2  target\n",
      "0  1.459110 -0.387450     1.0\n",
      "1 -0.982582  0.431602     0.0\n",
      "2  1.059435 -0.036946     0.0\n",
      "3  0.314481  0.811808     0.0\n",
      "4  1.017578  0.286717     0.0\n"
     ]
    }
   ],
   "source": [
    "###Sart code              \n",
    "              #import pandas \n",
    "df =     pd.read_csv('data/blobs.csv')     #create a dataframe named 'data' from 'blobs.csv' file\n",
    "###End code\n",
    "print(df.head())"
   ]
  },
  {
   "cell_type": "markdown",
   "metadata": {
    "id": "rqCtS1D3Wi44"
   },
   "source": [
    "- Extract feature1 and feature2 values from dataframe 'df' and assign it to variable 'X'\n",
    "- Extract target variable 'traget' and assign it to variable 'y'.  \n",
    "Hint:\n",
    " - Use .values to exract values from dataframe"
   ]
  },
  {
   "cell_type": "code",
   "execution_count": 3,
   "metadata": {
    "id": "IaRJ8HLLXpuK"
   },
   "outputs": [],
   "source": [
    "###Start code\n",
    "X =  df[['feature1', 'feature2']].values                                         #extract feature1 and feature2 values\n",
    "y =  df['target'].values                                         #extract target values\n",
    "###End code\n",
    "assert X.shape == (5000, 2)\n",
    "assert y.shape == (5000, )"
   ]
  },
  {
   "cell_type": "markdown",
   "metadata": {
    "id": "ExaZdf-XPIbj"
   },
   "source": [
    "- Run the below cell to visualize the data in x-y plane. (visualization code has been written for you)\n",
    "- The blue spots corresponds to target value 0 and green spots corresponds to target value 1"
   ]
  },
  {
   "cell_type": "code",
   "execution_count": 4,
   "metadata": {
    "id": "OLSGMjm0VGkJ"
   },
   "outputs": [
    {
     "data": {
      "text/plain": [
       "<Figure size 640x480 with 1 Axes>"
      ]
     },
     "metadata": {},
     "output_type": "display_data"
    }
   ],
   "source": [
    "import matplotlib.pyplot as plt\n",
    "import matplotlib.colors\n",
    "colors=['blue','green']\n",
    "cmap = matplotlib.colors.ListedColormap(colors)\n",
    "#Plot the figure\n",
    "plt.figure()\n",
    "plt.title('Non-linearly separable classes')\n",
    "plt.scatter(X[:,0], X[:,1], c=y,\n",
    "           marker= 'o', s=50,cmap=cmap,alpha = 0.5 )\n",
    "plt.show()"
   ]
  },
  {
   "cell_type": "markdown",
   "metadata": {
    "id": "_thw1BvZPIbo"
   },
   "source": [
    "- In order to feed the network the input has to be of **shape (number of features, number of samples)** and target should be of shape **(1, number of samples)**\n",
    "- Transpose X and assign it to variable 'X_data'\n",
    "- reshape y to have shape (1, number of samples) and assign to variable 'y_data'"
   ]
  },
  {
   "cell_type": "code",
   "execution_count": 5,
   "metadata": {
    "id": "XchlAZPwHpMk"
   },
   "outputs": [],
   "source": [
    "###Start code\n",
    "X_data = X.T\n",
    "y_data = y.reshape(1, -1)\n",
    "###End code\n",
    "\n",
    "assert X_data.shape == (2, 5000)\n",
    "assert y_data.shape == (1, 5000)"
   ]
  },
  {
   "cell_type": "markdown",
   "metadata": {
    "id": "f6jQ0MMrPIb0"
   },
   "source": [
    "Define the network dimension to have two input features, two hidden layers with 25 nodes each, one output node at final layer. "
   ]
  },
  {
   "cell_type": "code",
   "execution_count": 6,
   "metadata": {
    "id": "t_dEEaJykLSa"
   },
   "outputs": [],
   "source": [
    "layer_dims = [2, 25, 25, 1]"
   ]
  },
  {
   "cell_type": "markdown",
   "metadata": {
    "id": "N--SyBzCPIb6"
   },
   "source": [
    "import tensorflow package as tf"
   ]
  },
  {
   "cell_type": "code",
   "execution_count": 7,
   "metadata": {
    "id": "k_XezOrPPIb8"
   },
   "outputs": [],
   "source": [
    "import tensorflow as tf                        #import tensorflow"
   ]
  },
  {
   "cell_type": "markdown",
   "metadata": {
    "id": "50zqrIjbPIcG"
   },
   "source": [
    "Define a function named placeholders to return two placeholders one for input data as A_0 and one for output data as Y.\n",
    "- Set the datatype of placeholders as float64\n",
    "- parameters - num_features\n",
    "- Returns - A_0 with shape (num_feature, None) and Y with shape(1,None)"
   ]
  },
  {
   "cell_type": "code",
   "execution_count": 8,
   "metadata": {
    "id": "4kp4_9kS58CT"
   },
   "outputs": [],
   "source": [
    "def placeholders(num_features):\n",
    "    A_0 = tf.placeholder(dtype = tf.float64, shape = ([num_features,None]))\n",
    "    Y = tf.placeholder(dtype = tf.float64, shape = ([1,None]))\n",
    "    return A_0,Y"
   ]
  },
  {
   "cell_type": "markdown",
   "metadata": {
    "id": "c6Fy6ANIPIcL"
   },
   "source": [
    "Define function named initialize_parameters_deep() to initialize weights and bias for each layer\n",
    "- Use tf.get_variable to initialise weights and bias, set datatype as float64\n",
    "- Make sure you are using xavier initialization for weigths and initialize bias to zeros\n",
    "- Parameters - layer_dims\n",
    "- Returns - dictionary of weights and bias"
   ]
  },
  {
   "cell_type": "code",
   "execution_count": 9,
   "metadata": {
    "id": "W3l_vyXVkrlw"
   },
   "outputs": [],
   "source": [
    "def initialize_parameters_deep(layer_dims):\n",
    "    tf.set_random_seed(1)\n",
    "    L = len(layer_dims)\n",
    "    parameters = {}\n",
    "    for l in range(1,L):\n",
    "        parameters['W' + str(l)] = tf.get_variable(\"W\" + str(l), shape=[layer_dims[l], layer_dims[l-1]], dtype = tf.float64,\n",
    "                                   initializer=tf.contrib.layers.xavier_initializer())\n",
    "                                   \n",
    "        parameters['b' + str(l)] = tf.get_variable(\"b\"+ str(l), shape = [layer_dims[l], 1], dtype= tf.float64, initializer= tf.zeros_initializer() )\n",
    "\n",
    "    return parameters"
   ]
  },
  {
   "cell_type": "markdown",
   "metadata": {
    "id": "-jY0w7UNPIcQ"
   },
   "source": [
    "Define functon named linear_forward_prop() to define forward propagation for a given layer.\n",
    "- parameters: A_prev(output from previous layer), W(weigth matrix of current layer), b(bias vector for current layer),activation(type of activation to be used for out of current layer)  \n",
    "- returns: A(output from the current layer)\n",
    "- Use relu activation for hidden layers and for final output layer return the output unactivated i.e if activation is sigmoid"
   ]
  },
  {
   "cell_type": "code",
   "execution_count": 10,
   "metadata": {
    "id": "SKbSUt5g4toV"
   },
   "outputs": [],
   "source": [
    "def linear_forward_prop(A_prev,W,b, activation):\n",
    "    ###Start code\n",
    "    Z = tf.add(tf.matmul(W, A_prev), b)  \n",
    "    if activation == \"sigmoid\":\n",
    "        A = Z\n",
    "    elif activation == \"relu\":\n",
    "        A =  tf.nn.relu(Z) \n",
    "    ###End code\n",
    "    return A"
   ]
  },
  {
   "cell_type": "markdown",
   "metadata": {
    "id": "wVpyh5xtPIcY"
   },
   "source": [
    "Define forward propagation for entire network as l_layer_forward()\n",
    "- Parameters: A_0(input data), parameters(dictionary of weights and bias), dropout (boolean)\n",
    "- returns: A(output from final layer)  \n",
    "If dropout = True, deactivate the layers's output with probability value equal to 0.8.  \n",
    "use tensoflow's droupout function to apply dropout."
   ]
  },
  {
   "cell_type": "code",
   "execution_count": 11,
   "metadata": {
    "id": "Cdks1w__k-Ei"
   },
   "outputs": [],
   "source": [
    "def l_layer_forwardProp(A_0, parameters, drop_out = False):\n",
    "    A = A_0\n",
    "    L = len(parameters)//2                               #number of layers\n",
    "    for l in range(1,L):                                 \n",
    "        A_prev = A\n",
    "        \n",
    "        A = linear_forward_prop(A_prev,parameters['W' + str(l)],parameters['b' + str(l)], \"relu\")                                           \n",
    "        #call linear_forward_prop to return the output from current layer\n",
    "        \n",
    "        if drop_out:                                    #check if dropout == True, if true apply dropout to current layer's output.\n",
    "            A =  tf.nn.dropout(x = A, keep_prob = 0.8)                                   \n",
    "            # call tensoflow's droupout function to deactivate output A, set keep_prob = 0.8\n",
    "    A = linear_forward_prop(A, parameters['W' + str(L)], parameters['b' + str(L)], \"sigmoid\" )   # return output from final layer.\n",
    "    return A"
   ]
  },
  {
   "cell_type": "markdown",
   "metadata": {
    "id": "nch_KgtKPIce"
   },
   "source": [
    "- Define the cost function\n",
    "- parameters:\n",
    "  - Z_final: output fro final layer\n",
    "  - Y: actual output\n",
    "  - parameters: dictionary of weigths and bias\n",
    "  - regularization : boolean\n",
    "  - lambd: regularization parameter\n",
    "- First define the original cost using tensoflow's sigmoid_cross_entropy function\n",
    "- If **regularization == True** add regularization term to original cost function"
   ]
  },
  {
   "cell_type": "code",
   "execution_count": 12,
   "metadata": {
    "id": "s6LoETX8PIcf"
   },
   "outputs": [],
   "source": [
    "def final_cost(Z_final, Y , parameters, regularization = False, lambd = 0):\n",
    "    #define original cost\n",
    "    cost = tf.nn.sigmoid_cross_entropy_with_logits(logits=Z_final,labels=Y)\n",
    "    if regularization:\n",
    "        \n",
    "        reg_term = 0                               \n",
    "        L = len(parameters)//2                     \n",
    "        for l in range(1,L+1):\n",
    "            #use tensorflow's l2 regularization to calculate regularization term for each later and\n",
    "            #sum it up to previous layer's regularization term\n",
    "            regularization_term = tf.nn.l2_loss(parameters['W'+str(l)])\n",
    "            \n",
    "\n",
    "            reg_term += regularization_term\n",
    "        \n",
    "        #multiply lambd/2 to reg_term to add it to original cost\n",
    "        cost += tf.multiply(reg_term, lambd/2)\n",
    "    return tf.reduce_mean(cost)"
   ]
  },
  {
   "cell_type": "markdown",
   "metadata": {
    "id": "pPwG_NdkPIcx"
   },
   "source": [
    "- define the model to train the network\n",
    "- parameters:\n",
    "  - X_train, Y_train: input and target data\n",
    "  - layer_dims: network configuration\n",
    "  - learning_rate\n",
    "  - num_iter: number of epoches\n",
    "  - regularization (boolean): If true apply regularization\n",
    "  - lambd: regularization parameter ($\\lambda$)\n",
    "  - dropout (boolean): if true apply dropout\n",
    "- return: dictionary of trained parameters and costs to be validated"
   ]
  },
  {
   "cell_type": "code",
   "execution_count": 13,
   "metadata": {
    "id": "HLZ_K8nNopoH"
   },
   "outputs": [],
   "source": [
    "\n",
    "def deep_net(X_train,Y_train, layer_dims, learning_rate, num_iter, regularization = False, lambd = 0, drop_out = False):\n",
    "    tf.reset_default_graph()                \n",
    "    num_features = layer_dims[0]\n",
    "    \n",
    "    A_0, Y =  placeholders(num_features)                    \n",
    "    #call placeholder function to initialize placeholders A_0 and Y\n",
    "    parameters = initialize_parameters_deep(layer_dims)                 \n",
    "    #Initialse Weights and bias using initialize_parameters_deep() with layer_dims as parameters  \n",
    "    Z_final =  l_layer_forwardProp(A_0, parameters, drop_out)\n",
    "    #call the function l_layer_forwardProp() to define the final output\n",
    "    \n",
    "    # call final_cost() function to return the cost that has to be minimized during gradient descent\n",
    "    cost = final_cost(Z_final, Y , parameters, regularization, lambd)\n",
    "    \n",
    "    #call tensorflow's gradient descent optimizer function with minimize cost  \n",
    "    train_net =   tf.train.GradientDescentOptimizer(learning_rate).minimize(cost)\n",
    "    \n",
    "    init = tf.global_variables_initializer()\n",
    "    costs = []\n",
    "    with tf.Session() as sess:\n",
    "        sess.run(init)\n",
    "        for i in range(num_iter):\n",
    "            _,c = sess.run([train_net, cost], feed_dict={A_0: X_train, Y: Y_train})\n",
    "            if i % 100 == 0:\n",
    "                costs.append(c)\n",
    "            if i % 1000 == 0:\n",
    "                print(c)\n",
    "        with open('output.txt', 'w') as file:\n",
    "            file.write(\"cost = %f \"  % costs[-1])\n",
    "        plt.ylim(min(costs)+0.1 ,max(costs), 4, 0.01)\n",
    "        plt.xlabel(\"epoches per 100\")\n",
    "        plt.ylabel(\"cost\")\n",
    "        plt.plot(costs)\n",
    "        plt.show()\n",
    "        params = sess.run(parameters)\n",
    "    return params,costs"
   ]
  },
  {
   "cell_type": "markdown",
   "metadata": {
    "id": "2n1ChdqQPIc3"
   },
   "source": [
    "Run the cell below to define the method to predict outputof the model for given input and parameters.The code has been written for you\n",
    "Note that we are not applying droupout during prediction."
   ]
  },
  {
   "cell_type": "code",
   "execution_count": 14,
   "metadata": {
    "id": "tnibfFLbPIc4"
   },
   "outputs": [],
   "source": [
    "def predict(A_0, parameters):\n",
    "    with tf.Session() as sess:\n",
    "        Z = l_layer_forwardProp(A_0, parameters, drop_out= False)\n",
    "        A = sess.run(tf.round(tf.sigmoid(Z)))\n",
    "    return A"
   ]
  },
  {
   "cell_type": "markdown",
   "metadata": {
    "id": "h8w6xLyRPIc9"
   },
   "source": [
    "- Run the below cell to define the method to plot the decision boundary.The code for visualization has been written for you."
   ]
  },
  {
   "cell_type": "code",
   "execution_count": 15,
   "metadata": {
    "id": "iPi5mlNVPIc-"
   },
   "outputs": [],
   "source": [
    "import numpy as np\n",
    "def plot_decision_boundary1( X, y, model):\n",
    "    plt.clf()\n",
    "    # Set min and max values and give it some padding\n",
    "    x_min, x_max = X[0, :].min() - 1, X[0, :].max() + 1\n",
    "    y_min, y_max = X[1, :].min() - 1, X[1, :].max() + 1   \n",
    "    colors=['blue','green']\n",
    "    cmap = matplotlib.colors.ListedColormap(colors)   \n",
    "    h = 0.01\n",
    "    # Generate a grid of points with distance h between them\n",
    "    xx, yy = np.meshgrid(np.arange(x_min, x_max, h), np.arange(y_min, y_max, h))\n",
    "    # Predict the function value for the whole grid\n",
    "    A = model(np.c_[xx.ravel(), yy.ravel()])\n",
    "    A = A.reshape(xx.shape)\n",
    "    # Plot the contour and training examples\n",
    "    plt.contourf(xx, yy, A, cmap=\"spring\")\n",
    "    plt.ylabel('x2')\n",
    "    plt.xlabel('x1')\n",
    "    plt.scatter(X[0, :], X[1, :], c=y, s=8,cmap=cmap)\n",
    "    plt.title(\"Decision Boundary for learning rate:\")\n",
    "    plt.show()"
   ]
  },
  {
   "cell_type": "markdown",
   "metadata": {
    "id": "LPjair-QPIdB"
   },
   "source": [
    "Build the model with no dropout and regualrization,   \n",
    "assign **learning_rate = 0.01** and **num_iter = 10000**"
   ]
  },
  {
   "cell_type": "code",
   "execution_count": 16,
   "metadata": {
    "id": "B2qeMlAP3UcS"
   },
   "outputs": [
    {
     "name": "stdout",
     "output_type": "stream",
     "text": [
      "0.7132421643765884\n",
      "0.25878414407029376\n",
      "0.22193411212674596\n",
      "0.20050138185699642\n",
      "0.17088276792888277\n",
      "0.13036262403519935\n",
      "0.08946135658145447\n",
      "0.06020842942283916\n",
      "0.04255075315034042\n",
      "0.03213010563550353\n"
     ]
    },
    {
     "data": {
      "image/png": "[encoded data removed]",
      "text/plain": [
       "<Figure size 432x288 with 1 Axes>"
      ]
     },
     "metadata": {
      "needs_background": "light"
     },
     "output_type": "display_data"
    },
    {
     "data": {
      "image/png": "[encoded data removed]",
      "text/plain": [
       "<Figure size 432x288 with 1 Axes>"
      ]
     },
     "metadata": {
      "needs_background": "light"
     },
     "output_type": "display_data"
    }
   ],
   "source": [
    "###Start code\n",
    "parameters,val1 = deep_net(X_data,y_data, layer_dims, learning_rate=0.01, num_iter=10000, regularization = False, lambd = 0, drop_out = False)\n",
    "##End code\n",
    "plot_decision_boundary1(X_data,y,lambda x: predict(x.T,parameters))"
   ]
  },
  {
   "cell_type": "markdown",
   "metadata": {
    "id": "DYat1Rr-PIdH"
   },
   "source": [
    "If you are able to train the network and visualize the decision boundary you can see that model's prediction has defined the boundary"
   ]
  },
  {
   "cell_type": "markdown",
   "metadata": {
    "id": "Y5zA4ljmPIdH"
   },
   "source": [
    "Now build the model with regularization.  \n",
    "assign **learning_rate = 0.01, num_iter = 10000 , regularization = True, lambd = 0.02**"
   ]
  },
  {
   "cell_type": "code",
   "execution_count": 17,
   "metadata": {
    "id": "XPLylrNCPIdI"
   },
   "outputs": [
    {
     "name": "stdout",
     "output_type": "stream",
     "text": [
      "0.8794219041043243\n",
      "0.4378816267004901\n",
      "0.3918119248912606\n",
      "0.3662281070881116\n",
      "0.34468058393190787\n",
      "0.3237084941829814\n",
      "0.30217127068727667\n",
      "0.2804753903239493\n",
      "0.26048123358147\n",
      "0.243988883761293\n"
     ]
    },
    {
     "data": {
      "image/png": "[encoded data removed]",
      "text/plain": [
       "<Figure size 432x288 with 1 Axes>"
      ]
     },
     "metadata": {
      "needs_background": "light"
     },
     "output_type": "display_data"
    },
    {
     "data": {
      "image/png": "[encoded data removed]",
      "text/plain": [
       "<Figure size 432x288 with 1 Axes>"
      ]
     },
     "metadata": {
      "needs_background": "light"
     },
     "output_type": "display_data"
    }
   ],
   "source": [
    "##Start code\n",
    "parameters,val2 = deep_net(X_data,y_data, layer_dims, learning_rate=0.01, num_iter=10000, regularization = True, lambd = 0.02, drop_out = False) \n",
    "###end code\n",
    "plot_decision_boundary1(X_data,y,lambda x: predict(x.T,parameters))"
   ]
  },
  {
   "cell_type": "markdown",
   "metadata": {
    "id": "uEIjShl-PIdM"
   },
   "source": [
    "Train the model with dropout  \n",
    "assign **learning_rate = 0.01, num_iter = 10000 , regularization = False, drop_out = True**"
   ]
  },
  {
   "cell_type": "code",
   "execution_count": 18,
   "metadata": {
    "id": "uR2nLVZBPIPG"
   },
   "outputs": [
    {
     "name": "stdout",
     "output_type": "stream",
     "text": [
      "0.7242230664896574\n",
      "0.3156710390691264\n",
      "0.2748897988143912\n",
      "0.2588655315994359\n",
      "0.24187069340703182\n",
      "0.21934004420284328\n",
      "0.18236894023465822\n",
      "0.15029622034213352\n",
      "0.1344506596423619\n",
      "0.11573182870065629\n"
     ]
    },
    {
     "data": {
      "image/png": "[encoded data removed]",
      "text/plain": [
       "<Figure size 432x288 with 1 Axes>"
      ]
     },
     "metadata": {
      "needs_background": "light"
     },
     "output_type": "display_data"
    },
    {
     "data": {
      "image/png": "[encoded data removed]",
      "text/plain": [
       "<Figure size 432x288 with 1 Axes>"
      ]
     },
     "metadata": {
      "needs_background": "light"
     },
     "output_type": "display_data"
    }
   ],
   "source": [
    "##Start code\n",
    "parameters,val3 = deep_net(X_data,y_data, layer_dims, learning_rate=0.01, num_iter=10000, regularization = False, lambd = 0, drop_out = True) \n",
    "###End code\n",
    "plot_decision_boundary1(X_data,y,lambda x: predict(x.T,parameters))"
   ]
  },
  {
   "cell_type": "markdown",
   "metadata": {
    "id": "vBNocnj9qWRT"
   },
   "source": [
    "\n",
    "**Run the below cell to store your answers. Donot modify**\n",
    "---\n",
    "\n"
   ]
  },
  {
   "cell_type": "code",
   "execution_count": 19,
   "metadata": {
    "id": "lboW11XpPIdT"
   },
   "outputs": [
    {
     "name": "stdout",
     "output_type": "stream",
     "text": [
      "14f493ea0a506088ab5c79956182515b\n",
      "3df7e16bfc8f130fcd687651378e8f91\n",
      "780fd132dbad62ba0321a14d832f5a32\n"
     ]
    }
   ],
   "source": [
    "def pickle_ans1(value):\n",
    "  hexresult=gethex(value)\n",
    "  with open('output/output1.pkl', 'wb') as file:\n",
    "    hexresult=gethex(value)\n",
    "    print(hexresult)\n",
    "    pickle.dump(hexresult,file)\n",
    "def pickle_ans2(value):\n",
    "  hexresult=gethex(value)\n",
    "  with open('output/output2.pkl', 'wb') as file:\n",
    "    hexresult=gethex(value)\n",
    "    print(hexresult)\n",
    "    pickle.dump(hexresult,file)\n",
    "def pickle_ans3(value):\n",
    "  hexresult=gethex(value)\n",
    "  with open('output/output3.pkl', 'wb') as file:\n",
    "    hexresult=gethex(value)\n",
    "    print(hexresult)\n",
    "    pickle.dump(hexresult,file)\n",
    "pickle_ans1(val1)\n",
    "pickle_ans2(val2)\n",
    "pickle_ans3(val3)\n"
   ]
  },
  {
   "cell_type": "code",
   "execution_count": null,
   "metadata": {},
   "outputs": [],
   "source": []
  },
  {
   "cell_type": "code",
   "execution_count": null,
   "metadata": {},
   "outputs": [],
   "source": []
  }
 ],
 "metadata": {
  "colab": {
   "collapsed_sections": [],
   "name": "handson1.ipynb",
   "provenance": []
  },
  "kernelspec": {
   "display_name": "Python 3",
   "language": "python",
   "name": "python3"
  },
  "language_info": {
   "codemirror_mode": {
    "name": "ipython",
    "version": 3
   },
   "file_extension": ".py",
   "mimetype": "text/x-python",
   "name": "python",
   "nbconvert_exporter": "python",
   "pygments_lexer": "ipython3",
   "version": "3.5.2"
  }
 },
 "nbformat": 4,
 "nbformat_minor": 1
}
